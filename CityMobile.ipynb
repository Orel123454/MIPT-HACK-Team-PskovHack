{
 "cells": [
  {
   "cell_type": "code",
   "execution_count": 1,
   "metadata": {},
   "outputs": [],
   "source": [
    "import pandas as pd\n",
    "import polyline\n",
    "\n",
    "\n",
    "\n",
    "import numpy as np\n",
    "\n",
    "from numpy.linalg import norm\n",
    "\n",
    "from sklearn.model_selection import train_test_split\n",
    "#from sklearn.preprocessing import Imputer\n",
    "from sklearn.impute import SimpleImputer \n",
    "from xgboost import XGBRegressor\n",
    "from sklearn.metrics import mean_absolute_error\n",
    "\n",
    " \n",
    "#Оптимизация буста    \n",
    "import xgboost as xgb\n",
    "from sklearn import preprocessing\n",
    "# from sklearn.cross_validation import train_test_split\n",
    "# from sklearn.cross_validation import *\n",
    "\n",
    "from sklearn.model_selection import GridSearchCV\n",
    "#from sklearn.grid_search import GridSearchCV\n",
    "\n",
    "\n"
   ]
  },
  {
   "cell_type": "code",
   "execution_count": 2,
   "metadata": {},
   "outputs": [],
   "source": [
    "# test.csv – выборка для предсказания\n",
    "# test_additional.csv – выборка для предсказания + дополнительные поля (e.g координаты проставки статусов и др.)\n",
    "# train.csv – выборка для обучения\n",
    "# validation.csv – выбора для валидации\n",
    "# Описание полей\n",
    "# Id\n",
    "\n",
    "# main_id_locality – Идентификатор города\n",
    "# ETA – Ожидаемое время поездки\n",
    "# RTA – Реальное время поездки / Требуется предсказать\n",
    "# OrderedDate – Время заказа\n",
    "# latitude – Широта старта заказа\n",
    "# del_latitude – Широта конца заказа\n",
    "# longitude – Долгота старта заказа\n",
    "# del_longitude – Долгота конца заказа\n",
    "# EDA – Ожидаемая дистанция заказа\n",
    "\n",
    "\n",
    "# RDA – Фактическая дистанция заказа / Нет на момент создания заказа\n",
    "# ReadyForCollection – Время события \"Подъехал\" / Нет на момент создания заказа\n",
    "# ClientCollected – Время события \"В пути\" / Нет на момент создания заказа\n",
    "# GoodArrived – Время события \"Прибыл\" / Нет на момент создания заказа\n",
    "# ready_latitude – Широта события \"Подъехал\" / Нет на момент создания заказа\n",
    "# ready_longitude – Долгота события \"Подъехал\" / Нет на момент создания заказа\n",
    "# onway_latitude – Широта события \"В пути\" / Нет на момент создания заказа\n",
    "# onway_longitude – Долгота события \"В пути\" / Нет на момент создания заказа\n",
    "# arrived_latitude – Широта события \"Прибыл\" / Нет на момент создания заказа\n",
    "# arrived_longitude – Долгота события \"Прибыл\" / Нет на момент создания заказа\n",
    "\n",
    "\n",
    "# center_latitude – Широта центра города\n",
    "# center_longitude – Долгота центра города\n",
    "# route – расчетный трек"
   ]
  },
  {
   "cell_type": "code",
   "execution_count": 3,
   "metadata": {},
   "outputs": [
    {
     "name": "stdout",
     "output_type": "stream",
     "text": [
      "[4 6]\n",
      "0.9999999999999999\n"
     ]
    }
   ],
   "source": [
    "p = np.array([4, 6])\n",
    "q = np.array([1, 2])\n",
    "r = np.array([0, -1])\n",
    "\n",
    "def t(p, q, r):\n",
    "    x = p-q\n",
    "    return np.dot(r-q, x)/np.dot(x, x)\n",
    "\n",
    "def d(p, q, r):\n",
    "    return np.linalg.norm(t(p, q, r)*(p-q)+q-r)\n",
    "print(p)\n",
    "print(d(p, q, r))"
   ]
  },
  {
   "cell_type": "code",
   "execution_count": 4,
   "metadata": {},
   "outputs": [],
   "source": [
    "# def t(p, q, r):\n",
    "#     x = p-q\n",
    "#     return np.dot(r-q, x)/np.dot(x, x)\n",
    "\n",
    "# def d(p, q, r):\n",
    "#     return np.linalg.norm(t(p, q, r)*(p-q)+q-r)\n",
    "\n",
    "# f = pd.read_csv('train.csv')\n",
    "# f.route.fillna(0, inplace=True)\n",
    "\n",
    "# x=f['longitude']\n",
    "# y=f['latitude']\n",
    "# #p = np.hstack((x, y))\n",
    "# P=np.stack((x, y), axis=-1)\n",
    "\n",
    "# x=f['del_longitude']\n",
    "# y=f['del_latitude']\n",
    "# Q=np.stack((x, y), axis=-1)\n",
    "\n",
    "# x=f['center_longitude']\n",
    "# y=f['center_latitude']\n",
    "# R=np.stack((x, y), axis=-1)\n",
    "\n",
    "# dist=[]\n",
    "# for i in range(len(R)):\n",
    "#     p = P[i]\n",
    "#     q = Q[i]\n",
    "#     r = R[i]\n",
    "#     dist.append(d(p, q, r))\n",
    "    \n",
    "# f['distance']=dist"
   ]
  },
  {
   "cell_type": "code",
   "execution_count": 5,
   "metadata": {},
   "outputs": [],
   "source": [
    "# f['distance'].head()"
   ]
  },
  {
   "cell_type": "markdown",
   "metadata": {},
   "source": [
    "# Список фичей "
   ]
  },
  {
   "cell_type": "code",
   "execution_count": 6,
   "metadata": {},
   "outputs": [],
   "source": [
    "# Близость к центру\n",
    "# (А,Б, середина)\n",
    "\n",
    "# Праздник\n",
    "\n",
    "# Диапазон цены\n",
    "\n",
    "# Расстояние между точками   (Мантхетен и Евклид)\n",
    "\n",
    "# Сложность маршрута  \n",
    "\n",
    "# GridSearchCV параметров модели\n",
    "\n",
    "# Комбинация нескольких алгоритмов. Стекинг\n",
    "\n",
    "# Комбинация:            lightgbm, xgboost, catboost\n",
    "\n",
    "# Возможно погода.\n",
    "\n",
    "# Выходной или нет\n",
    "\n",
    "# Направление от/до центра\n",
    "\n",
    "# Величина шума\n",
    "\n",
    "# Погрешность величины \n",
    " \n",
    "# Временное расстояние до ближайшего праздника\n",
    "\n",
    "# Категориальные и числовые переменные\n",
    "\n",
    "# N-way-split как в решающих деревьях\n",
    "\n",
    "# Переобучение\n",
    "\n",
    "# Валидация\n",
    "\n",
    "# Разбить рандомно фичи на группы и скормить алгоритму (возможно уже)\n",
    "\n",
    "# CatBoosting "
   ]
  },
  {
   "cell_type": "code",
   "execution_count": 7,
   "metadata": {},
   "outputs": [],
   "source": [
    "# f = pd.read_csv('train.csv')\n",
    "# f.route.fillna(0, inplace=True)\n",
    "\n",
    "\n",
    "# x=f['longitude']\n",
    "# y=f['latitude']\n",
    "# #p = np.hstack((x, y))\n",
    "# p=np.stack((x, y), axis=-1)\n",
    "\n",
    "# x=f['del_longitude']\n",
    "# y=f['del_latitude']\n",
    "# q=np.stack((x, y), axis=-1)\n",
    "\n",
    "# x=f['center_longitude']\n",
    "# y=f['center_latitude']\n",
    "# r=np.stack((x, y), axis=-1)\n",
    "\n",
    "\n",
    "# print(p)"
   ]
  },
  {
   "cell_type": "code",
   "execution_count": null,
   "metadata": {},
   "outputs": [],
   "source": []
  },
  {
   "cell_type": "code",
   "execution_count": 8,
   "metadata": {},
   "outputs": [
    {
     "data": {
      "text/plain": [
       "209.33793517837177"
      ]
     },
     "execution_count": 8,
     "metadata": {},
     "output_type": "execute_result"
    }
   ],
   "source": [
    "f = pd.read_csv('train.csv')\n",
    "er=abs(f['RTA']-f['ETA']).mean()\n",
    "er"
   ]
  },
  {
   "cell_type": "code",
   "execution_count": 9,
   "metadata": {},
   "outputs": [],
   "source": [
    "# f = pd.read_csv('train.csv')\n",
    "# f.route.fillna(0, inplace=True)\n",
    "# r=polyline.decode(f['route'].values[:5])\n",
    "# r=len(r)"
   ]
  },
  {
   "cell_type": "markdown",
   "metadata": {},
   "source": [
    "# Дизай Фичей\n"
   ]
  },
  {
   "cell_type": "code",
   "execution_count": 10,
   "metadata": {},
   "outputs": [],
   "source": [
    "f = pd.read_csv('train.csv')\n",
    "\n",
    "\n",
    "#er=abs(f['RTA']-f['ETA']).mean()\n",
    "#Опираться нельзя\n",
    "f=f.drop(['RDA', 'ReadyForCollection','ClientCollected','GoodArrived','ready_latitude', 'ready_longitude','onway_latitude','onway_longitude','arrived_latitude', 'arrived_longitude'], axis=1)\n",
    "#Опираться непонтяно как\n",
    "f=f.drop(['track'], axis=1)\n",
    "#Опираться бессмысленно\n",
    "f=f.drop(['Id'], axis=1)\n",
    "f.route.fillna(0, inplace=True)\n",
    "\n",
    "#'center_longitude', 'center_latitude'\n",
    "\n",
    "#Разбиваем дату на фичи: \n",
    "f.OrderedDate=f.OrderedDate.astype('datetime64[ns]')    # Разпознаем дату\n",
    "\n",
    "f['minute']=f.OrderedDate.dt.minute\n",
    "f['hour']=f.OrderedDate.dt.hour\n",
    "f['week_day']=f.OrderedDate.dt.weekday\n",
    "f['month_day']=f.OrderedDate.dt.day\n",
    "f['month']=f.OrderedDate.dt.month\n",
    "\n",
    "f=f.drop(['OrderedDate'], axis=1)    #Дропаем дату\n",
    "\n",
    "\n",
    "# #берем расстояния\n",
    "f['A_B_evklid']=(f['latitude']-f['del_latitude'])**2+(f['longitude']-f['del_longitude'])**2\n",
    "f['A_B_manhet']=abs(f['latitude']-f['del_latitude'])+abs(f['longitude']-f['del_longitude'])\n",
    "\n",
    "f['points']=polyline.decode(train.iloc[2]['route']).sum()\n",
    "\n",
    "\n",
    "def t(p, q, r):\n",
    "    x = p-q\n",
    "    return np.dot(r-q, x)/np.dot(x, x)\n",
    "\n",
    "def d(p, q, r):\n",
    "    return np.linalg.norm(t(p, q, r)*(p-q)+q-r)\n",
    "\n",
    "\n",
    "x=f['longitude']\n",
    "y=f['latitude']\n",
    "#p = np.hstack((x, y))\n",
    "P=np.stack((x, y), axis=-1)\n",
    "\n",
    "x=f['del_longitude']\n",
    "y=f['del_latitude']\n",
    "Q=np.stack((x, y), axis=-1)\n",
    "\n",
    "x=f['center_longitude']\n",
    "y=f['center_latitude']\n",
    "R=np.stack((x, y), axis=-1)\n",
    "\n",
    "dist=[]\n",
    "for i in range(len(R)):\n",
    "    p = P[i]\n",
    "    q = Q[i]\n",
    "    r = R[i]\n",
    "    dist.append(d(p, q, r))\n",
    "    \n",
    "f['distance']=dist\n"
   ]
  },
  {
   "cell_type": "code",
   "execution_count": 11,
   "metadata": {},
   "outputs": [],
   "source": [
    "X=f.drop(['RTA'], axis=1)   #Данный для предсказания\n",
    "y=f['RTA']                  #Предсказуемая величина\n",
    "\n",
    "#X.head()"
   ]
  },
  {
   "cell_type": "code",
   "execution_count": 12,
   "metadata": {},
   "outputs": [
    {
     "data": {
      "text/html": [
       "<div>\n",
       "<style scoped>\n",
       "    .dataframe tbody tr th:only-of-type {\n",
       "        vertical-align: middle;\n",
       "    }\n",
       "\n",
       "    .dataframe tbody tr th {\n",
       "        vertical-align: top;\n",
       "    }\n",
       "\n",
       "    .dataframe thead th {\n",
       "        text-align: right;\n",
       "    }\n",
       "</style>\n",
       "<table border=\"1\" class=\"dataframe\">\n",
       "  <thead>\n",
       "    <tr style=\"text-align: right;\">\n",
       "      <th></th>\n",
       "      <th>main_id_locality</th>\n",
       "      <th>ETA</th>\n",
       "      <th>RTA</th>\n",
       "      <th>latitude</th>\n",
       "      <th>del_latitude</th>\n",
       "      <th>longitude</th>\n",
       "      <th>del_longitude</th>\n",
       "      <th>EDA</th>\n",
       "      <th>center_latitude</th>\n",
       "      <th>center_longitude</th>\n",
       "      <th>minute</th>\n",
       "      <th>hour</th>\n",
       "      <th>week_day</th>\n",
       "      <th>month_day</th>\n",
       "      <th>month</th>\n",
       "      <th>A_B_evklid</th>\n",
       "      <th>A_B_manhet</th>\n",
       "      <th>distance</th>\n",
       "    </tr>\n",
       "  </thead>\n",
       "  <tbody>\n",
       "    <tr>\n",
       "      <th>299259</th>\n",
       "      <td>1078</td>\n",
       "      <td>1852.0</td>\n",
       "      <td>1309.0</td>\n",
       "      <td>55.795059</td>\n",
       "      <td>55.766602</td>\n",
       "      <td>49.191002</td>\n",
       "      <td>49.102482</td>\n",
       "      <td>9.0</td>\n",
       "      <td>55.794388</td>\n",
       "      <td>49.111531</td>\n",
       "      <td>11</td>\n",
       "      <td>10</td>\n",
       "      <td>2</td>\n",
       "      <td>19</td>\n",
       "      <td>2</td>\n",
       "      <td>0.008646</td>\n",
       "      <td>0.116978</td>\n",
       "      <td>0.023683</td>\n",
       "    </tr>\n",
       "    <tr>\n",
       "      <th>136156</th>\n",
       "      <td>1078</td>\n",
       "      <td>989.0</td>\n",
       "      <td>759.0</td>\n",
       "      <td>55.778259</td>\n",
       "      <td>55.839119</td>\n",
       "      <td>49.131519</td>\n",
       "      <td>49.135540</td>\n",
       "      <td>9.0</td>\n",
       "      <td>55.794388</td>\n",
       "      <td>49.111531</td>\n",
       "      <td>14</td>\n",
       "      <td>22</td>\n",
       "      <td>3</td>\n",
       "      <td>23</td>\n",
       "      <td>1</td>\n",
       "      <td>0.003720</td>\n",
       "      <td>0.064880</td>\n",
       "      <td>0.021008</td>\n",
       "    </tr>\n",
       "    <tr>\n",
       "      <th>632440</th>\n",
       "      <td>22430</td>\n",
       "      <td>552.0</td>\n",
       "      <td>332.0</td>\n",
       "      <td>51.542950</td>\n",
       "      <td>51.526440</td>\n",
       "      <td>46.011471</td>\n",
       "      <td>46.031940</td>\n",
       "      <td>3.0</td>\n",
       "      <td>51.530376</td>\n",
       "      <td>45.953026</td>\n",
       "      <td>25</td>\n",
       "      <td>23</td>\n",
       "      <td>2</td>\n",
       "      <td>4</td>\n",
       "      <td>3</td>\n",
       "      <td>0.000692</td>\n",
       "      <td>0.036980</td>\n",
       "      <td>0.046479</td>\n",
       "    </tr>\n",
       "    <tr>\n",
       "      <th>729766</th>\n",
       "      <td>22438</td>\n",
       "      <td>442.0</td>\n",
       "      <td>257.0</td>\n",
       "      <td>57.988258</td>\n",
       "      <td>57.976151</td>\n",
       "      <td>56.218689</td>\n",
       "      <td>56.208370</td>\n",
       "      <td>2.0</td>\n",
       "      <td>58.010321</td>\n",
       "      <td>56.234178</td>\n",
       "      <td>29</td>\n",
       "      <td>20</td>\n",
       "      <td>4</td>\n",
       "      <td>13</td>\n",
       "      <td>3</td>\n",
       "      <td>0.000253</td>\n",
       "      <td>0.022427</td>\n",
       "      <td>0.002522</td>\n",
       "    </tr>\n",
       "    <tr>\n",
       "      <th>242222</th>\n",
       "      <td>1078</td>\n",
       "      <td>1358.0</td>\n",
       "      <td>956.0</td>\n",
       "      <td>55.689751</td>\n",
       "      <td>55.751339</td>\n",
       "      <td>49.146320</td>\n",
       "      <td>49.174309</td>\n",
       "      <td>13.0</td>\n",
       "      <td>55.794388</td>\n",
       "      <td>49.111531</td>\n",
       "      <td>44</td>\n",
       "      <td>16</td>\n",
       "      <td>6</td>\n",
       "      <td>26</td>\n",
       "      <td>1</td>\n",
       "      <td>0.004576</td>\n",
       "      <td>0.089577</td>\n",
       "      <td>0.074963</td>\n",
       "    </tr>\n",
       "    <tr>\n",
       "      <th>316192</th>\n",
       "      <td>22390</td>\n",
       "      <td>737.0</td>\n",
       "      <td>527.0</td>\n",
       "      <td>53.265572</td>\n",
       "      <td>53.226669</td>\n",
       "      <td>50.208210</td>\n",
       "      <td>50.191662</td>\n",
       "      <td>6.0</td>\n",
       "      <td>53.183330</td>\n",
       "      <td>50.116670</td>\n",
       "      <td>25</td>\n",
       "      <td>22</td>\n",
       "      <td>2</td>\n",
       "      <td>12</td>\n",
       "      <td>2</td>\n",
       "      <td>0.001787</td>\n",
       "      <td>0.055450</td>\n",
       "      <td>0.052043</td>\n",
       "    </tr>\n",
       "  </tbody>\n",
       "</table>\n",
       "</div>"
      ],
      "text/plain": [
       "        main_id_locality     ETA     RTA   latitude  del_latitude  longitude  \\\n",
       "299259              1078  1852.0  1309.0  55.795059     55.766602  49.191002   \n",
       "136156              1078   989.0   759.0  55.778259     55.839119  49.131519   \n",
       "632440             22430   552.0   332.0  51.542950     51.526440  46.011471   \n",
       "729766             22438   442.0   257.0  57.988258     57.976151  56.218689   \n",
       "242222              1078  1358.0   956.0  55.689751     55.751339  49.146320   \n",
       "316192             22390   737.0   527.0  53.265572     53.226669  50.208210   \n",
       "\n",
       "        del_longitude   EDA  center_latitude  center_longitude  minute  hour  \\\n",
       "299259      49.102482   9.0        55.794388         49.111531      11    10   \n",
       "136156      49.135540   9.0        55.794388         49.111531      14    22   \n",
       "632440      46.031940   3.0        51.530376         45.953026      25    23   \n",
       "729766      56.208370   2.0        58.010321         56.234178      29    20   \n",
       "242222      49.174309  13.0        55.794388         49.111531      44    16   \n",
       "316192      50.191662   6.0        53.183330         50.116670      25    22   \n",
       "\n",
       "        week_day  month_day  month  A_B_evklid  A_B_manhet  distance  \n",
       "299259         2         19      2    0.008646    0.116978  0.023683  \n",
       "136156         3         23      1    0.003720    0.064880  0.021008  \n",
       "632440         2          4      3    0.000692    0.036980  0.046479  \n",
       "729766         4         13      3    0.000253    0.022427  0.002522  \n",
       "242222         6         26      1    0.004576    0.089577  0.074963  \n",
       "316192         2         12      2    0.001787    0.055450  0.052043  "
      ]
     },
     "execution_count": 12,
     "metadata": {},
     "output_type": "execute_result"
    }
   ],
   "source": [
    "f.sample(6)"
   ]
  },
  {
   "cell_type": "code",
   "execution_count": null,
   "metadata": {},
   "outputs": [],
   "source": []
  },
  {
   "cell_type": "code",
   "execution_count": null,
   "metadata": {},
   "outputs": [],
   "source": []
  },
  {
   "cell_type": "code",
   "execution_count": 13,
   "metadata": {},
   "outputs": [],
   "source": [
    "# from sklearn.impute import SimpleImputer \n",
    "# imputer = SimpleImputer(missing_values=np.nan, strategy='mean')\n",
    "# instead of\n",
    "\n",
    "# from sklearn.preprocessing import Imputer\n",
    "# imputer = Imputer(missing_values='NaN', strategy='mean', axis=0)"
   ]
  },
  {
   "cell_type": "code",
   "execution_count": 14,
   "metadata": {},
   "outputs": [],
   "source": [
    "#'DataFrame' object has no attribute 'as_matrix'\n",
    "\n",
    "# coords = df.as_matrix(columns=['Latitude','Longitude'])\n",
    "# instead of\n",
    "\n",
    "# coords = df[[\"Latitude\", \"Longitude\"]].values"
   ]
  },
  {
   "cell_type": "markdown",
   "metadata": {},
   "source": [
    "# Модель XGBoosting"
   ]
  },
  {
   "cell_type": "code",
   "execution_count": 15,
   "metadata": {},
   "outputs": [],
   "source": [
    "# ### n_jobs\n",
    "# On larger datasets where runtime is a consideration, you can use parallelism to build your models faster.  It's common to set the parameter **n_jobs** equal to the number of cores on your machine.  On smaller datasets, this won't help. \n",
    "\n",
    "# The resulting model won't be any better, so micro-optimizing for fitting time is typically nothing but a distraction. But, it's useful in large datasets where you would otherwise spend a long time waiting during the `fit` command.\n",
    "\n",
    "# XGBoost has a multitude of other parameters, but these will go a very long way in helping you fine-tune your XGBoost model for optimal performance.\n",
    "\n",
    "# # Conclusion\n",
    "# XGBoost is currently the dominant algorithm for building accurate models on conventional data (also called tabular or strutured data).  Go apply it to improve your models!\n",
    "\n",
    "# # Your Turn\n",
    "# Convert yuor model to use XGBoost.\n",
    "\n",
    "# Use early stopping to find a good value for n_estimators.  Then re-estimate the model with all of your training data, and that value of n_estimators.\n",
    "\n",
    "# Once you've done this, return to **[Learning Machine Learning](https://www.kaggle.com/dansbecker/learn-machine-learning)**, to keep improving..  \n",
    "\n",
    "\n",
    "\n",
    "\n",
    "data = f #pd.read_csv('../input/train.csv')\n",
    "data.dropna(axis=0, subset=['RTA'], inplace=True)\n",
    "\n",
    "y = data.RTA\n",
    "X = data.drop(['RTA'], axis=1).select_dtypes(exclude=['object'])\n",
    "\n",
    "#train_X, test_X, train_y, test_y = train_test_split(X.as_matrix(), y.as_matrix(), test_size=0.25)\n",
    "train_X, test_X, train_y, test_y = train_test_split(X.values, y.values, test_size=0.25)\n",
    "\n",
    "\n",
    "#my_imputer = Imputer()\n",
    "my_imputer = SimpleImputer()\n",
    "\n",
    "\n",
    "train_X = my_imputer.fit_transform(train_X)\n",
    "test_X = my_imputer.transform(test_X)\n",
    "\n",
    "\n",
    "\n",
    "# my_model = XGBRegressor()\n",
    "# #  add verbose=False to avoid printing out updates with each cycle\n",
    "# my_model.fit(train_X, train_y, verbose=False)\n",
    "# # make predictions\n",
    "# predictions = my_model.predict(test_X)\n",
    "# print(\"Mean Absolute Error : \" + str(mean_absolute_error(predictions, test_y)))\n",
    "# # Mean Absolute Error : 18017.7953339 \n",
    "# # better than Mean Absolute Error with One-Hot Encoding (18052)\n",
    "# # fitting with early_stopping:\n",
    "\n",
    "\n",
    "# my_model = XGBRegressor(n_estimators=1000)\n",
    "# my_model.fit(train_X, train_y, early_stopping_rounds=5, \n",
    "#              eval_set=[(test_X, test_y)], verbose=False)\n",
    "# predictions = my_model.predict(test_X)\n",
    "# print(\"Early_Stopping Mean Absolute Error : \" + str(mean_absolute_error(predictions, test_y)))\n",
    "# # Early_Stopping Mean Absolute Error : 18241.4572346\n",
    "\n",
    "from sklearn.model_selection import StratifiedKFold\n",
    "\n",
    "my_model = XGBRegressor(n_estimators=1000, learning_rate=0.05)\n",
    "#my_model = XGBRegressor()\n",
    "#my_model\n",
    "\n",
    "# xgb_model = xgb.XGBClassifier()\n",
    "# #brute force scan for all parameters, here are the tricks\n",
    "# #usually max_depth is 6,7,8\n",
    "# #learning rate is around 0.05, but small changes may make big diff\n",
    "# #tuning min_child_weight subsample colsample_bytree can have \n",
    "# #much fun of fighting against overfit \n",
    "# #n_estimators is how many round of boosting\n",
    "# #finally, ensemble xgboost with multiple seeds may reduce variance\n",
    "\n",
    "# parameters = {'nthread':[4], #when use hyperthread, xgboost may become slower\n",
    " \n",
    "#               'learning_rate': [0.05], #so called `eta` value\n",
    "#               'max_depth': [5,6,10],\n",
    "#               'min_child_weight': [11],\n",
    "#               'silent': [1],\n",
    "#               'subsample': [0.8],\n",
    "#               'colsample_bytree': [0.7],\n",
    "#               'n_estimators': [1001],}\n",
    " \n",
    " \n",
    "\n",
    "\n",
    "# my_model = GridSearchCV(my_model, parameters, n_jobs=5, \n",
    "#                    cv=5,    #StratifiedKFold(y, n_folds=5, shuffle=True)\n",
    "#                    scoring='roc_auc',\n",
    "#                    verbose=2, refit=True)\n",
    "\n",
    "# clf.fit(train[features], train[\"QuoteConversion_Flag\"])"
   ]
  },
  {
   "cell_type": "code",
   "execution_count": 16,
   "metadata": {},
   "outputs": [],
   "source": [
    "#best model be here"
   ]
  },
  {
   "cell_type": "code",
   "execution_count": 17,
   "metadata": {},
   "outputs": [],
   "source": [
    "# # including a learning rate\n",
    "# my_model = XGBRegressor(n_estimators=1000, learning_rate=0.05)\n",
    "# my_model"
   ]
  },
  {
   "cell_type": "code",
   "execution_count": 18,
   "metadata": {},
   "outputs": [
    {
     "data": {
      "text/plain": [
       "XGBRegressor(base_score=0.5, booster=None, colsample_bylevel=1,\n",
       "             colsample_bynode=1, colsample_bytree=1, gamma=0, gpu_id=-1,\n",
       "             importance_type='gain', interaction_constraints=None,\n",
       "             learning_rate=0.05, max_delta_step=0, max_depth=6,\n",
       "             min_child_weight=1, missing=nan, monotone_constraints=None,\n",
       "             n_estimators=1100, n_jobs=0, num_parallel_tree=1,\n",
       "             objective='reg:squarederror', random_state=0, reg_alpha=0,\n",
       "             reg_lambda=1, scale_pos_weight=1, subsample=1, tree_method=None,\n",
       "             validate_parameters=False, verbosity=None)"
      ]
     },
     "execution_count": 18,
     "metadata": {},
     "output_type": "execute_result"
    }
   ],
   "source": [
    "my_model = XGBRegressor(n_estimators=1100, learning_rate=0.05)\n",
    "my_model.fit(train_X, train_y, early_stopping_rounds=5, \n",
    "             eval_set=[(test_X, test_y)], verbose=False)"
   ]
  },
  {
   "cell_type": "code",
   "execution_count": 19,
   "metadata": {},
   "outputs": [],
   "source": [
    "predictions1 = my_model.predict(test_X)"
   ]
  },
  {
   "cell_type": "code",
   "execution_count": 20,
   "metadata": {},
   "outputs": [
    {
     "data": {
      "text/plain": [
       "array([738.83856, 314.28247, 723.5157 , ..., 339.86362, 494.87024,\n",
       "       851.2008 ], dtype=float32)"
      ]
     },
     "execution_count": 20,
     "metadata": {},
     "output_type": "execute_result"
    }
   ],
   "source": [
    "predictions1\n"
   ]
  },
  {
   "cell_type": "code",
   "execution_count": 36,
   "metadata": {},
   "outputs": [
    {
     "name": "stdout",
     "output_type": "stream",
     "text": [
      "[738.83856 314.28247 723.5157  ... 339.86362 494.87024 851.2008 ]\n"
     ]
    }
   ],
   "source": [
    "print(predictions1)"
   ]
  },
  {
   "cell_type": "code",
   "execution_count": 22,
   "metadata": {},
   "outputs": [
    {
     "ename": "ValueError",
     "evalue": "operands could not be broadcast together with shapes (837128,) (209282,) ",
     "output_type": "error",
     "traceback": [
      "\u001b[1;31m---------------------------------------------------------------------------\u001b[0m",
      "\u001b[1;31mValueError\u001b[0m                                Traceback (most recent call last)",
      "\u001b[1;32m<ipython-input-22-693234d942fd>\u001b[0m in \u001b[0;36m<module>\u001b[1;34m\u001b[0m\n\u001b[1;32m----> 1\u001b[1;33m \u001b[0merr\u001b[0m \u001b[1;33m=\u001b[0m\u001b[0mabs\u001b[0m\u001b[1;33m(\u001b[0m\u001b[0my\u001b[0m\u001b[1;33m-\u001b[0m\u001b[0mpredictions1\u001b[0m\u001b[1;33m)\u001b[0m\u001b[1;33m.\u001b[0m\u001b[0mmean\u001b[0m\u001b[1;33m(\u001b[0m\u001b[1;33m)\u001b[0m\u001b[1;33m\u001b[0m\u001b[1;33m\u001b[0m\u001b[0m\n\u001b[0m",
      "\u001b[1;32mD:\\Anaconda_new\\lib\\site-packages\\pandas\\core\\ops\\common.py\u001b[0m in \u001b[0;36mnew_method\u001b[1;34m(self, other)\u001b[0m\n\u001b[0;32m     62\u001b[0m         \u001b[0mother\u001b[0m \u001b[1;33m=\u001b[0m \u001b[0mitem_from_zerodim\u001b[0m\u001b[1;33m(\u001b[0m\u001b[0mother\u001b[0m\u001b[1;33m)\u001b[0m\u001b[1;33m\u001b[0m\u001b[1;33m\u001b[0m\u001b[0m\n\u001b[0;32m     63\u001b[0m \u001b[1;33m\u001b[0m\u001b[0m\n\u001b[1;32m---> 64\u001b[1;33m         \u001b[1;32mreturn\u001b[0m \u001b[0mmethod\u001b[0m\u001b[1;33m(\u001b[0m\u001b[0mself\u001b[0m\u001b[1;33m,\u001b[0m \u001b[0mother\u001b[0m\u001b[1;33m)\u001b[0m\u001b[1;33m\u001b[0m\u001b[1;33m\u001b[0m\u001b[0m\n\u001b[0m\u001b[0;32m     65\u001b[0m \u001b[1;33m\u001b[0m\u001b[0m\n\u001b[0;32m     66\u001b[0m     \u001b[1;32mreturn\u001b[0m \u001b[0mnew_method\u001b[0m\u001b[1;33m\u001b[0m\u001b[1;33m\u001b[0m\u001b[0m\n",
      "\u001b[1;32mD:\\Anaconda_new\\lib\\site-packages\\pandas\\core\\ops\\__init__.py\u001b[0m in \u001b[0;36mwrapper\u001b[1;34m(left, right)\u001b[0m\n\u001b[0;32m    498\u001b[0m         \u001b[0mlvalues\u001b[0m \u001b[1;33m=\u001b[0m \u001b[0mextract_array\u001b[0m\u001b[1;33m(\u001b[0m\u001b[0mleft\u001b[0m\u001b[1;33m,\u001b[0m \u001b[0mextract_numpy\u001b[0m\u001b[1;33m=\u001b[0m\u001b[1;32mTrue\u001b[0m\u001b[1;33m)\u001b[0m\u001b[1;33m\u001b[0m\u001b[1;33m\u001b[0m\u001b[0m\n\u001b[0;32m    499\u001b[0m         \u001b[0mrvalues\u001b[0m \u001b[1;33m=\u001b[0m \u001b[0mextract_array\u001b[0m\u001b[1;33m(\u001b[0m\u001b[0mright\u001b[0m\u001b[1;33m,\u001b[0m \u001b[0mextract_numpy\u001b[0m\u001b[1;33m=\u001b[0m\u001b[1;32mTrue\u001b[0m\u001b[1;33m)\u001b[0m\u001b[1;33m\u001b[0m\u001b[1;33m\u001b[0m\u001b[0m\n\u001b[1;32m--> 500\u001b[1;33m         \u001b[0mresult\u001b[0m \u001b[1;33m=\u001b[0m \u001b[0marithmetic_op\u001b[0m\u001b[1;33m(\u001b[0m\u001b[0mlvalues\u001b[0m\u001b[1;33m,\u001b[0m \u001b[0mrvalues\u001b[0m\u001b[1;33m,\u001b[0m \u001b[0mop\u001b[0m\u001b[1;33m,\u001b[0m \u001b[0mstr_rep\u001b[0m\u001b[1;33m)\u001b[0m\u001b[1;33m\u001b[0m\u001b[1;33m\u001b[0m\u001b[0m\n\u001b[0m\u001b[0;32m    501\u001b[0m \u001b[1;33m\u001b[0m\u001b[0m\n\u001b[0;32m    502\u001b[0m         \u001b[1;32mreturn\u001b[0m \u001b[0m_construct_result\u001b[0m\u001b[1;33m(\u001b[0m\u001b[0mleft\u001b[0m\u001b[1;33m,\u001b[0m \u001b[0mresult\u001b[0m\u001b[1;33m,\u001b[0m \u001b[0mindex\u001b[0m\u001b[1;33m=\u001b[0m\u001b[0mleft\u001b[0m\u001b[1;33m.\u001b[0m\u001b[0mindex\u001b[0m\u001b[1;33m,\u001b[0m \u001b[0mname\u001b[0m\u001b[1;33m=\u001b[0m\u001b[0mres_name\u001b[0m\u001b[1;33m)\u001b[0m\u001b[1;33m\u001b[0m\u001b[1;33m\u001b[0m\u001b[0m\n",
      "\u001b[1;32mD:\\Anaconda_new\\lib\\site-packages\\pandas\\core\\ops\\array_ops.py\u001b[0m in \u001b[0;36marithmetic_op\u001b[1;34m(left, right, op, str_rep)\u001b[0m\n\u001b[0;32m    195\u001b[0m     \u001b[1;32melse\u001b[0m\u001b[1;33m:\u001b[0m\u001b[1;33m\u001b[0m\u001b[1;33m\u001b[0m\u001b[0m\n\u001b[0;32m    196\u001b[0m         \u001b[1;32mwith\u001b[0m \u001b[0mnp\u001b[0m\u001b[1;33m.\u001b[0m\u001b[0merrstate\u001b[0m\u001b[1;33m(\u001b[0m\u001b[0mall\u001b[0m\u001b[1;33m=\u001b[0m\u001b[1;34m\"ignore\"\u001b[0m\u001b[1;33m)\u001b[0m\u001b[1;33m:\u001b[0m\u001b[1;33m\u001b[0m\u001b[1;33m\u001b[0m\u001b[0m\n\u001b[1;32m--> 197\u001b[1;33m             \u001b[0mres_values\u001b[0m \u001b[1;33m=\u001b[0m \u001b[0mna_arithmetic_op\u001b[0m\u001b[1;33m(\u001b[0m\u001b[0mlvalues\u001b[0m\u001b[1;33m,\u001b[0m \u001b[0mrvalues\u001b[0m\u001b[1;33m,\u001b[0m \u001b[0mop\u001b[0m\u001b[1;33m,\u001b[0m \u001b[0mstr_rep\u001b[0m\u001b[1;33m)\u001b[0m\u001b[1;33m\u001b[0m\u001b[1;33m\u001b[0m\u001b[0m\n\u001b[0m\u001b[0;32m    198\u001b[0m \u001b[1;33m\u001b[0m\u001b[0m\n\u001b[0;32m    199\u001b[0m     \u001b[1;32mreturn\u001b[0m \u001b[0mres_values\u001b[0m\u001b[1;33m\u001b[0m\u001b[1;33m\u001b[0m\u001b[0m\n",
      "\u001b[1;32mD:\\Anaconda_new\\lib\\site-packages\\pandas\\core\\ops\\array_ops.py\u001b[0m in \u001b[0;36mna_arithmetic_op\u001b[1;34m(left, right, op, str_rep)\u001b[0m\n\u001b[0;32m    147\u001b[0m \u001b[1;33m\u001b[0m\u001b[0m\n\u001b[0;32m    148\u001b[0m     \u001b[1;32mtry\u001b[0m\u001b[1;33m:\u001b[0m\u001b[1;33m\u001b[0m\u001b[1;33m\u001b[0m\u001b[0m\n\u001b[1;32m--> 149\u001b[1;33m         \u001b[0mresult\u001b[0m \u001b[1;33m=\u001b[0m \u001b[0mexpressions\u001b[0m\u001b[1;33m.\u001b[0m\u001b[0mevaluate\u001b[0m\u001b[1;33m(\u001b[0m\u001b[0mop\u001b[0m\u001b[1;33m,\u001b[0m \u001b[0mstr_rep\u001b[0m\u001b[1;33m,\u001b[0m \u001b[0mleft\u001b[0m\u001b[1;33m,\u001b[0m \u001b[0mright\u001b[0m\u001b[1;33m)\u001b[0m\u001b[1;33m\u001b[0m\u001b[1;33m\u001b[0m\u001b[0m\n\u001b[0m\u001b[0;32m    150\u001b[0m     \u001b[1;32mexcept\u001b[0m \u001b[0mTypeError\u001b[0m\u001b[1;33m:\u001b[0m\u001b[1;33m\u001b[0m\u001b[1;33m\u001b[0m\u001b[0m\n\u001b[0;32m    151\u001b[0m         \u001b[0mresult\u001b[0m \u001b[1;33m=\u001b[0m \u001b[0mmasked_arith_op\u001b[0m\u001b[1;33m(\u001b[0m\u001b[0mleft\u001b[0m\u001b[1;33m,\u001b[0m \u001b[0mright\u001b[0m\u001b[1;33m,\u001b[0m \u001b[0mop\u001b[0m\u001b[1;33m)\u001b[0m\u001b[1;33m\u001b[0m\u001b[1;33m\u001b[0m\u001b[0m\n",
      "\u001b[1;32mD:\\Anaconda_new\\lib\\site-packages\\pandas\\core\\computation\\expressions.py\u001b[0m in \u001b[0;36mevaluate\u001b[1;34m(op, op_str, a, b, use_numexpr)\u001b[0m\n\u001b[0;32m    206\u001b[0m     \u001b[0muse_numexpr\u001b[0m \u001b[1;33m=\u001b[0m \u001b[0muse_numexpr\u001b[0m \u001b[1;32mand\u001b[0m \u001b[0m_bool_arith_check\u001b[0m\u001b[1;33m(\u001b[0m\u001b[0mop_str\u001b[0m\u001b[1;33m,\u001b[0m \u001b[0ma\u001b[0m\u001b[1;33m,\u001b[0m \u001b[0mb\u001b[0m\u001b[1;33m)\u001b[0m\u001b[1;33m\u001b[0m\u001b[1;33m\u001b[0m\u001b[0m\n\u001b[0;32m    207\u001b[0m     \u001b[1;32mif\u001b[0m \u001b[0muse_numexpr\u001b[0m\u001b[1;33m:\u001b[0m\u001b[1;33m\u001b[0m\u001b[1;33m\u001b[0m\u001b[0m\n\u001b[1;32m--> 208\u001b[1;33m         \u001b[1;32mreturn\u001b[0m \u001b[0m_evaluate\u001b[0m\u001b[1;33m(\u001b[0m\u001b[0mop\u001b[0m\u001b[1;33m,\u001b[0m \u001b[0mop_str\u001b[0m\u001b[1;33m,\u001b[0m \u001b[0ma\u001b[0m\u001b[1;33m,\u001b[0m \u001b[0mb\u001b[0m\u001b[1;33m)\u001b[0m\u001b[1;33m\u001b[0m\u001b[1;33m\u001b[0m\u001b[0m\n\u001b[0m\u001b[0;32m    209\u001b[0m     \u001b[1;32mreturn\u001b[0m \u001b[0m_evaluate_standard\u001b[0m\u001b[1;33m(\u001b[0m\u001b[0mop\u001b[0m\u001b[1;33m,\u001b[0m \u001b[0mop_str\u001b[0m\u001b[1;33m,\u001b[0m \u001b[0ma\u001b[0m\u001b[1;33m,\u001b[0m \u001b[0mb\u001b[0m\u001b[1;33m)\u001b[0m\u001b[1;33m\u001b[0m\u001b[1;33m\u001b[0m\u001b[0m\n\u001b[0;32m    210\u001b[0m \u001b[1;33m\u001b[0m\u001b[0m\n",
      "\u001b[1;32mD:\\Anaconda_new\\lib\\site-packages\\pandas\\core\\computation\\expressions.py\u001b[0m in \u001b[0;36m_evaluate_standard\u001b[1;34m(op, op_str, a, b)\u001b[0m\n\u001b[0;32m     68\u001b[0m         \u001b[0m_store_test_result\u001b[0m\u001b[1;33m(\u001b[0m\u001b[1;32mFalse\u001b[0m\u001b[1;33m)\u001b[0m\u001b[1;33m\u001b[0m\u001b[1;33m\u001b[0m\u001b[0m\n\u001b[0;32m     69\u001b[0m     \u001b[1;32mwith\u001b[0m \u001b[0mnp\u001b[0m\u001b[1;33m.\u001b[0m\u001b[0merrstate\u001b[0m\u001b[1;33m(\u001b[0m\u001b[0mall\u001b[0m\u001b[1;33m=\u001b[0m\u001b[1;34m\"ignore\"\u001b[0m\u001b[1;33m)\u001b[0m\u001b[1;33m:\u001b[0m\u001b[1;33m\u001b[0m\u001b[1;33m\u001b[0m\u001b[0m\n\u001b[1;32m---> 70\u001b[1;33m         \u001b[1;32mreturn\u001b[0m \u001b[0mop\u001b[0m\u001b[1;33m(\u001b[0m\u001b[0ma\u001b[0m\u001b[1;33m,\u001b[0m \u001b[0mb\u001b[0m\u001b[1;33m)\u001b[0m\u001b[1;33m\u001b[0m\u001b[1;33m\u001b[0m\u001b[0m\n\u001b[0m\u001b[0;32m     71\u001b[0m \u001b[1;33m\u001b[0m\u001b[0m\n\u001b[0;32m     72\u001b[0m \u001b[1;33m\u001b[0m\u001b[0m\n",
      "\u001b[1;31mValueError\u001b[0m: operands could not be broadcast together with shapes (837128,) (209282,) "
     ]
    }
   ],
   "source": [
    "err = abs(y-predictions1).mean()"
   ]
  },
  {
   "cell_type": "code",
   "execution_count": 23,
   "metadata": {},
   "outputs": [
    {
     "ename": "NameError",
     "evalue": "name 'predictions' is not defined",
     "output_type": "error",
     "traceback": [
      "\u001b[1;31m---------------------------------------------------------------------------\u001b[0m",
      "\u001b[1;31mNameError\u001b[0m                                 Traceback (most recent call last)",
      "\u001b[1;32m<ipython-input-23-be45fc11be1f>\u001b[0m in \u001b[0;36m<module>\u001b[1;34m\u001b[0m\n\u001b[1;32m----> 1\u001b[1;33m \u001b[0mprint\u001b[0m\u001b[1;33m(\u001b[0m\u001b[1;34m\"ES and LR Mean Absolute Error : \"\u001b[0m \u001b[1;33m+\u001b[0m \u001b[0mstr\u001b[0m\u001b[1;33m(\u001b[0m\u001b[0mmean_absolute_error\u001b[0m\u001b[1;33m(\u001b[0m\u001b[0mpredictions\u001b[0m\u001b[1;33m,\u001b[0m \u001b[0mtest_y\u001b[0m\u001b[1;33m)\u001b[0m\u001b[1;33m)\u001b[0m\u001b[1;33m)\u001b[0m\u001b[1;33m\u001b[0m\u001b[1;33m\u001b[0m\u001b[0m\n\u001b[0m\u001b[0;32m      2\u001b[0m \u001b[1;31m# ES and LR Mean Absolute Error : 18138.6426156\u001b[0m\u001b[1;33m\u001b[0m\u001b[1;33m\u001b[0m\u001b[1;33m\u001b[0m\u001b[0m\n\u001b[0;32m      3\u001b[0m \u001b[0mprint\u001b[0m\u001b[1;33m(\u001b[0m\u001b[0mmy_model\u001b[0m\u001b[1;33m)\u001b[0m\u001b[1;33m\u001b[0m\u001b[1;33m\u001b[0m\u001b[0m\n",
      "\u001b[1;31mNameError\u001b[0m: name 'predictions' is not defined"
     ]
    }
   ],
   "source": [
    "print(\"ES and LR Mean Absolute Error : \" + str(mean_absolute_error(predictions, test_y)))\n",
    "# ES and LR Mean Absolute Error : 18138.6426156 \n",
    "print(my_model)"
   ]
  },
  {
   "cell_type": "code",
   "execution_count": 24,
   "metadata": {},
   "outputs": [
    {
     "data": {
      "text/plain": [
       "array([774.19514184, 314.70217775, 728.61121104, ..., 391.15534005,\n",
       "       449.74921641, 857.77572385])"
      ]
     },
     "execution_count": 24,
     "metadata": {},
     "output_type": "execute_result"
    }
   ],
   "source": [
    "import numpy as np\n",
    "from sklearn.linear_model import LinearRegression\n",
    "reg = LinearRegression(normalize=True).fit(train_X, train_y)\n",
    "predictions2 = reg.predict(test_X)\n",
    "predictions2\n"
   ]
  },
  {
   "cell_type": "markdown",
   "metadata": {},
   "source": [
    "# Стекинг Моделей"
   ]
  },
  {
   "cell_type": "code",
   "execution_count": 25,
   "metadata": {},
   "outputs": [
    {
     "name": "stdout",
     "output_type": "stream",
     "text": [
      "ES and LR Mean Absolute Error 2: 111.31689265955045\n",
      "XGBRegressor(base_score=0.5, booster=None, colsample_bylevel=1,\n",
      "             colsample_bynode=1, colsample_bytree=1, gamma=0, gpu_id=-1,\n",
      "             importance_type='gain', interaction_constraints=None,\n",
      "             learning_rate=0.05, max_delta_step=0, max_depth=6,\n",
      "             min_child_weight=1, missing=nan, monotone_constraints=None,\n",
      "             n_estimators=1100, n_jobs=0, num_parallel_tree=1,\n",
      "             objective='reg:squarederror', random_state=0, reg_alpha=0,\n",
      "             reg_lambda=1, scale_pos_weight=1, subsample=1, tree_method=None,\n",
      "             validate_parameters=False, verbosity=None)\n"
     ]
    }
   ],
   "source": [
    "predictions=(predictions1+predictions2)/2\n",
    "\n",
    "print(\"ES and LR Mean Absolute Error 2: \" + str(mean_absolute_error(predictions, test_y)))\n",
    "# ES and LR Mean Absolute Error : 18138.6426156 \n",
    "print(my_model)"
   ]
  },
  {
   "cell_type": "markdown",
   "metadata": {},
   "source": [
    "# Итоговая ошибка"
   ]
  },
  {
   "cell_type": "code",
   "execution_count": 26,
   "metadata": {},
   "outputs": [
    {
     "name": "stdout",
     "output_type": "stream",
     "text": [
      "ES and LR Mean Absolute Error final: 111.31689265955045\n",
      "XGBRegressor(base_score=0.5, booster=None, colsample_bylevel=1,\n",
      "             colsample_bynode=1, colsample_bytree=1, gamma=0, gpu_id=-1,\n",
      "             importance_type='gain', interaction_constraints=None,\n",
      "             learning_rate=0.05, max_delta_step=0, max_depth=6,\n",
      "             min_child_weight=1, missing=nan, monotone_constraints=None,\n",
      "             n_estimators=1100, n_jobs=0, num_parallel_tree=1,\n",
      "             objective='reg:squarederror', random_state=0, reg_alpha=0,\n",
      "             reg_lambda=1, scale_pos_weight=1, subsample=1, tree_method=None,\n",
      "             validate_parameters=False, verbosity=None)\n"
     ]
    }
   ],
   "source": [
    "print(\"ES and LR Mean Absolute Error final: \" + str(mean_absolute_error(predictions, test_y)))\n",
    "# ES and LR Mean Absolute Error : 18138.6426156 \n",
    "print(my_model)"
   ]
  },
  {
   "cell_type": "markdown",
   "metadata": {},
   "source": [
    "# Оптимизация фистинга... ой, - бустинга!\n"
   ]
  },
  {
   "cell_type": "code",
   "execution_count": 27,
   "metadata": {},
   "outputs": [],
   "source": [
    "# # my_model = XGBRegressor(n_estimators=1000)\n",
    "# # my_model.fit(train_X, train_y, early_stopping_rounds=5, \n",
    "# #              eval_set=[(test_X, test_y)], verbose=False)\n",
    "# # predictions = my_model.predict(test_X)\n",
    "# # print(\"Early_Stopping Mean Absolute Error : \" + str(mean_absolute_error(predictions, test_y)))\n",
    "# # # Early_Stopping Mean Absolute Error : 18241.4572346\n",
    "\n",
    "# from sklearn.model_selection import StratifiedKFold\n",
    "\n",
    "# my_model = XGBRegressor(n_estimators=1000, learning_rate=0.05)\n",
    "# #my_model = XGBRegressor()\n",
    "# #my_model\n",
    "\n",
    "# # xgb_model = xgb.XGBClassifier()\n",
    "# # #brute force scan for all parameters, here are the tricks\n",
    "# # #usually max_depth is 6,7,8\n",
    "# # #learning rate is around 0.05, but small changes may make big diff\n",
    "# # #tuning min_child_weight subsample colsample_bytree can have \n",
    "# # #much fun of fighting against overfit \n",
    "# # #n_estimators is how many round of boosting\n",
    "# # #finally, ensemble xgboost with multiple seeds may reduce variance\n",
    "\n",
    "# # parameters = {'nthread':[4], #when use hyperthread, xgboost may become slower\n",
    " \n",
    "# #               'learning_rate': [0.05], #so called `eta` value\n",
    "# #               'max_depth': [5,6,10],\n",
    "# #               'min_child_weight': [11],\n",
    "# #               'silent': [1],\n",
    "# #               'subsample': [0.8],\n",
    "# #               'colsample_bytree': [0.7],\n",
    "# #               'n_estimators': [1001],}"
   ]
  },
  {
   "cell_type": "markdown",
   "metadata": {},
   "source": [
    "# Предсказание. Финал"
   ]
  },
  {
   "cell_type": "code",
   "execution_count": 28,
   "metadata": {},
   "outputs": [
    {
     "data": {
      "text/plain": [
       "array([756.51685192, 314.49232423, 726.06344854, ..., 365.5094785 ,\n",
       "       472.30972783, 854.48826476])"
      ]
     },
     "execution_count": 28,
     "metadata": {},
     "output_type": "execute_result"
    }
   ],
   "source": [
    "predictions"
   ]
  },
  {
   "cell_type": "code",
   "execution_count": 29,
   "metadata": {},
   "outputs": [
    {
     "ename": "AttributeError",
     "evalue": "'DataFrame' object has no attribute 'route'",
     "output_type": "error",
     "traceback": [
      "\u001b[1;31m---------------------------------------------------------------------------\u001b[0m",
      "\u001b[1;31mAttributeError\u001b[0m                            Traceback (most recent call last)",
      "\u001b[1;32m<ipython-input-29-de20b9595a5e>\u001b[0m in \u001b[0;36m<module>\u001b[1;34m\u001b[0m\n\u001b[0;32m      1\u001b[0m \u001b[0mg\u001b[0m\u001b[1;33m=\u001b[0m\u001b[0mpd\u001b[0m\u001b[1;33m.\u001b[0m\u001b[0mread_csv\u001b[0m\u001b[1;33m(\u001b[0m\u001b[1;34m'test.csv'\u001b[0m\u001b[1;33m)\u001b[0m\u001b[1;33m\u001b[0m\u001b[1;33m\u001b[0m\u001b[0m\n\u001b[0;32m      2\u001b[0m \u001b[0mg\u001b[0m\u001b[1;33m=\u001b[0m\u001b[0mg\u001b[0m\u001b[1;33m.\u001b[0m\u001b[0mdrop\u001b[0m\u001b[1;33m(\u001b[0m\u001b[1;33m[\u001b[0m\u001b[1;34m'Id'\u001b[0m\u001b[1;33m]\u001b[0m\u001b[1;33m,\u001b[0m \u001b[0maxis\u001b[0m\u001b[1;33m=\u001b[0m\u001b[1;36m1\u001b[0m\u001b[1;33m)\u001b[0m\u001b[1;33m\u001b[0m\u001b[1;33m\u001b[0m\u001b[0m\n\u001b[1;32m----> 3\u001b[1;33m \u001b[0mg\u001b[0m\u001b[1;33m.\u001b[0m\u001b[0mroute\u001b[0m\u001b[1;33m.\u001b[0m\u001b[0mfillna\u001b[0m\u001b[1;33m(\u001b[0m\u001b[1;36m0\u001b[0m\u001b[1;33m,\u001b[0m \u001b[0minplace\u001b[0m\u001b[1;33m=\u001b[0m\u001b[1;32mTrue\u001b[0m\u001b[1;33m)\u001b[0m\u001b[1;33m\u001b[0m\u001b[1;33m\u001b[0m\u001b[0m\n\u001b[0m\u001b[0;32m      4\u001b[0m \u001b[0mg\u001b[0m\u001b[1;33m.\u001b[0m\u001b[0mOrderedDate\u001b[0m\u001b[1;33m=\u001b[0m\u001b[0mg\u001b[0m\u001b[1;33m.\u001b[0m\u001b[0mOrderedDate\u001b[0m\u001b[1;33m.\u001b[0m\u001b[0mastype\u001b[0m\u001b[1;33m(\u001b[0m\u001b[1;34m'datetime64[ns]'\u001b[0m\u001b[1;33m)\u001b[0m    \u001b[1;31m# Разпознаем дату\u001b[0m\u001b[1;33m\u001b[0m\u001b[1;33m\u001b[0m\u001b[0m\n\u001b[0;32m      5\u001b[0m \u001b[0mg\u001b[0m\u001b[1;33m[\u001b[0m\u001b[1;34m'minute'\u001b[0m\u001b[1;33m]\u001b[0m\u001b[1;33m=\u001b[0m\u001b[0mg\u001b[0m\u001b[1;33m.\u001b[0m\u001b[0mOrderedDate\u001b[0m\u001b[1;33m.\u001b[0m\u001b[0mdt\u001b[0m\u001b[1;33m.\u001b[0m\u001b[0mminute\u001b[0m\u001b[1;33m\u001b[0m\u001b[1;33m\u001b[0m\u001b[0m\n",
      "\u001b[1;32mD:\\Anaconda_new\\lib\\site-packages\\pandas\\core\\generic.py\u001b[0m in \u001b[0;36m__getattr__\u001b[1;34m(self, name)\u001b[0m\n\u001b[0;32m   5272\u001b[0m             \u001b[1;32mif\u001b[0m \u001b[0mself\u001b[0m\u001b[1;33m.\u001b[0m\u001b[0m_info_axis\u001b[0m\u001b[1;33m.\u001b[0m\u001b[0m_can_hold_identifiers_and_holds_name\u001b[0m\u001b[1;33m(\u001b[0m\u001b[0mname\u001b[0m\u001b[1;33m)\u001b[0m\u001b[1;33m:\u001b[0m\u001b[1;33m\u001b[0m\u001b[1;33m\u001b[0m\u001b[0m\n\u001b[0;32m   5273\u001b[0m                 \u001b[1;32mreturn\u001b[0m \u001b[0mself\u001b[0m\u001b[1;33m[\u001b[0m\u001b[0mname\u001b[0m\u001b[1;33m]\u001b[0m\u001b[1;33m\u001b[0m\u001b[1;33m\u001b[0m\u001b[0m\n\u001b[1;32m-> 5274\u001b[1;33m             \u001b[1;32mreturn\u001b[0m \u001b[0mobject\u001b[0m\u001b[1;33m.\u001b[0m\u001b[0m__getattribute__\u001b[0m\u001b[1;33m(\u001b[0m\u001b[0mself\u001b[0m\u001b[1;33m,\u001b[0m \u001b[0mname\u001b[0m\u001b[1;33m)\u001b[0m\u001b[1;33m\u001b[0m\u001b[1;33m\u001b[0m\u001b[0m\n\u001b[0m\u001b[0;32m   5275\u001b[0m \u001b[1;33m\u001b[0m\u001b[0m\n\u001b[0;32m   5276\u001b[0m     \u001b[1;32mdef\u001b[0m \u001b[0m__setattr__\u001b[0m\u001b[1;33m(\u001b[0m\u001b[0mself\u001b[0m\u001b[1;33m,\u001b[0m \u001b[0mname\u001b[0m\u001b[1;33m:\u001b[0m \u001b[0mstr\u001b[0m\u001b[1;33m,\u001b[0m \u001b[0mvalue\u001b[0m\u001b[1;33m)\u001b[0m \u001b[1;33m->\u001b[0m \u001b[1;32mNone\u001b[0m\u001b[1;33m:\u001b[0m\u001b[1;33m\u001b[0m\u001b[1;33m\u001b[0m\u001b[0m\n",
      "\u001b[1;31mAttributeError\u001b[0m: 'DataFrame' object has no attribute 'route'"
     ]
    }
   ],
   "source": [
    "g=pd.read_csv('test.csv')\n",
    "g=g.drop(['Id'], axis=1)\n",
    "g.route.fillna(0, inplace=True)\n",
    "g.OrderedDate=g.OrderedDate.astype('datetime64[ns]')    # Разпознаем дату\n",
    "g['minute']=g.OrderedDate.dt.minute\n",
    "g['hour']=g.OrderedDate.dt.hour\n",
    "g['week_day']=g.OrderedDate.dt.weekday\n",
    "g['month_day']=g.OrderedDate.dt.day\n",
    "g['month']=g.OrderedDate.dt.month\n",
    "g=g.drop(['OrderedDate'], axis=1)    #Дропаем дату\n",
    "\n",
    "g['A_B_evklid']=(g['latitude']-g['del_latitude'])**2+(g['longitude']-g['del_longitude'])**2\n",
    "g['A_B_manhet']=abs(g['latitude']-g['del_latitude'])+abs(g['longitude']-g['del_longitude'])\n",
    "\n",
    "g['points']=polyline.decode(train.iloc[2]['route']).sum()\n",
    "def t(p, q, r):\n",
    "    x = p-q\n",
    "    return np.dot(r-q, x)/np.dot(x, x)\n",
    "\n",
    "def d(p, q, r):\n",
    "    return np.linalg.norm(t(p, q, r)*(p-q)+q-r)\n",
    "\n",
    "\n",
    "x=g['longitude']\n",
    "y=g['latitude']\n",
    "#p = np.hstack((x, y))\n",
    "P=np.stack((x, y), axis=-1)\n",
    "\n",
    "x=g['del_longitude']\n",
    "y=g['del_latitude']\n",
    "Q=np.stack((x, y), axis=-1)\n",
    "\n",
    "x=g['center_longitude']\n",
    "y=g['center_latitude']\n",
    "R=np.stack((x, y), axis=-1)\n",
    "\n",
    "dist=[]\n",
    "for i in range(len(R)):\n",
    "    p = P[i]\n",
    "    q = Q[i]\n",
    "    r = R[i]\n",
    "    dist.append(d(p, q, r))\n",
    "    \n",
    "g['distance']=dist\n",
    "\n",
    "\n",
    "test_x_for_submit=g\n",
    "test_x_for_submit.head()"
   ]
  },
  {
   "cell_type": "code",
   "execution_count": null,
   "metadata": {},
   "outputs": [],
   "source": [
    "predictions = my_model.predict(test_x_for_submit.values)\n",
    "predictions"
   ]
  },
  {
   "cell_type": "code",
   "execution_count": null,
   "metadata": {},
   "outputs": [],
   "source": [
    "predictions2 = reg.predict(test_x_for_submit.values)\n",
    "#predictions=(predictions2+predictions)/2"
   ]
  },
  {
   "cell_type": "code",
   "execution_count": 30,
   "metadata": {},
   "outputs": [
    {
     "data": {
      "text/html": [
       "<div>\n",
       "<style scoped>\n",
       "    .dataframe tbody tr th:only-of-type {\n",
       "        vertical-align: middle;\n",
       "    }\n",
       "\n",
       "    .dataframe tbody tr th {\n",
       "        vertical-align: top;\n",
       "    }\n",
       "\n",
       "    .dataframe thead th {\n",
       "        text-align: right;\n",
       "    }\n",
       "</style>\n",
       "<table border=\"1\" class=\"dataframe\">\n",
       "  <thead>\n",
       "    <tr style=\"text-align: right;\">\n",
       "      <th></th>\n",
       "      <th>Id</th>\n",
       "      <th>main_id_locality</th>\n",
       "      <th>ETA</th>\n",
       "      <th>OrderedDate</th>\n",
       "      <th>latitude</th>\n",
       "      <th>del_latitude</th>\n",
       "      <th>longitude</th>\n",
       "      <th>del_longitude</th>\n",
       "      <th>EDA</th>\n",
       "      <th>center_latitude</th>\n",
       "      <th>center_longitude</th>\n",
       "    </tr>\n",
       "  </thead>\n",
       "  <tbody>\n",
       "    <tr>\n",
       "      <th>0</th>\n",
       "      <td>0</td>\n",
       "      <td>1078</td>\n",
       "      <td>1212.0</td>\n",
       "      <td>2020-03-28 00:00:05</td>\n",
       "      <td>55.751270</td>\n",
       "      <td>55.836491</td>\n",
       "      <td>49.183281</td>\n",
       "      <td>49.140308</td>\n",
       "      <td>13.0</td>\n",
       "      <td>55.794388</td>\n",
       "      <td>49.111531</td>\n",
       "    </tr>\n",
       "    <tr>\n",
       "      <th>1</th>\n",
       "      <td>1</td>\n",
       "      <td>1078</td>\n",
       "      <td>968.0</td>\n",
       "      <td>2020-03-28 00:00:29</td>\n",
       "      <td>55.829720</td>\n",
       "      <td>55.819080</td>\n",
       "      <td>49.116032</td>\n",
       "      <td>49.183521</td>\n",
       "      <td>8.0</td>\n",
       "      <td>55.794388</td>\n",
       "      <td>49.111531</td>\n",
       "    </tr>\n",
       "    <tr>\n",
       "      <th>2</th>\n",
       "      <td>2</td>\n",
       "      <td>1078</td>\n",
       "      <td>492.0</td>\n",
       "      <td>2020-03-28 00:00:31</td>\n",
       "      <td>55.785660</td>\n",
       "      <td>55.783699</td>\n",
       "      <td>49.173920</td>\n",
       "      <td>49.195599</td>\n",
       "      <td>3.0</td>\n",
       "      <td>55.794388</td>\n",
       "      <td>49.111531</td>\n",
       "    </tr>\n",
       "    <tr>\n",
       "      <th>3</th>\n",
       "      <td>3</td>\n",
       "      <td>1078</td>\n",
       "      <td>953.0</td>\n",
       "      <td>2020-03-28 00:00:42</td>\n",
       "      <td>55.792568</td>\n",
       "      <td>55.824730</td>\n",
       "      <td>49.172691</td>\n",
       "      <td>49.084911</td>\n",
       "      <td>9.0</td>\n",
       "      <td>55.794388</td>\n",
       "      <td>49.111531</td>\n",
       "    </tr>\n",
       "    <tr>\n",
       "      <th>4</th>\n",
       "      <td>4</td>\n",
       "      <td>1078</td>\n",
       "      <td>1746.0</td>\n",
       "      <td>2020-03-28 00:00:47</td>\n",
       "      <td>55.829369</td>\n",
       "      <td>55.757278</td>\n",
       "      <td>49.092682</td>\n",
       "      <td>49.236542</td>\n",
       "      <td>16.0</td>\n",
       "      <td>55.794388</td>\n",
       "      <td>49.111531</td>\n",
       "    </tr>\n",
       "  </tbody>\n",
       "</table>\n",
       "</div>"
      ],
      "text/plain": [
       "   Id  main_id_locality     ETA          OrderedDate   latitude  del_latitude  \\\n",
       "0   0              1078  1212.0  2020-03-28 00:00:05  55.751270     55.836491   \n",
       "1   1              1078   968.0  2020-03-28 00:00:29  55.829720     55.819080   \n",
       "2   2              1078   492.0  2020-03-28 00:00:31  55.785660     55.783699   \n",
       "3   3              1078   953.0  2020-03-28 00:00:42  55.792568     55.824730   \n",
       "4   4              1078  1746.0  2020-03-28 00:00:47  55.829369     55.757278   \n",
       "\n",
       "   longitude  del_longitude   EDA  center_latitude  center_longitude  \n",
       "0  49.183281      49.140308  13.0        55.794388         49.111531  \n",
       "1  49.116032      49.183521   8.0        55.794388         49.111531  \n",
       "2  49.173920      49.195599   3.0        55.794388         49.111531  \n",
       "3  49.172691      49.084911   9.0        55.794388         49.111531  \n",
       "4  49.092682      49.236542  16.0        55.794388         49.111531  "
      ]
     },
     "execution_count": 30,
     "metadata": {},
     "output_type": "execute_result"
    }
   ],
   "source": [
    "ID=pd.read_csv('test.csv')\n",
    "ID.head()"
   ]
  },
  {
   "cell_type": "code",
   "execution_count": null,
   "metadata": {},
   "outputs": [],
   "source": []
  },
  {
   "cell_type": "code",
   "execution_count": 31,
   "metadata": {},
   "outputs": [
    {
     "data": {
      "text/plain": [
       "array([756.51685192, 314.49232423, 726.06344854, ..., 365.5094785 ,\n",
       "       472.30972783, 854.48826476])"
      ]
     },
     "execution_count": 31,
     "metadata": {},
     "output_type": "execute_result"
    }
   ],
   "source": [
    "predictions"
   ]
  },
  {
   "cell_type": "code",
   "execution_count": 32,
   "metadata": {},
   "outputs": [
    {
     "name": "stdout",
     "output_type": "stream",
     "text": [
      "   Prediction\n",
      "0  756.516852\n",
      "1  314.492324\n",
      "2  726.063449\n",
      "3  510.989450\n",
      "4  494.361989\n"
     ]
    },
    {
     "data": {
      "text/html": [
       "<div>\n",
       "<style scoped>\n",
       "    .dataframe tbody tr th:only-of-type {\n",
       "        vertical-align: middle;\n",
       "    }\n",
       "\n",
       "    .dataframe tbody tr th {\n",
       "        vertical-align: top;\n",
       "    }\n",
       "\n",
       "    .dataframe thead th {\n",
       "        text-align: right;\n",
       "    }\n",
       "</style>\n",
       "<table border=\"1\" class=\"dataframe\">\n",
       "  <thead>\n",
       "    <tr style=\"text-align: right;\">\n",
       "      <th></th>\n",
       "      <th>Id</th>\n",
       "      <th>Prediction</th>\n",
       "    </tr>\n",
       "  </thead>\n",
       "  <tbody>\n",
       "    <tr>\n",
       "      <th>0</th>\n",
       "      <td>0</td>\n",
       "      <td>756.516852</td>\n",
       "    </tr>\n",
       "    <tr>\n",
       "      <th>1</th>\n",
       "      <td>1</td>\n",
       "      <td>314.492324</td>\n",
       "    </tr>\n",
       "    <tr>\n",
       "      <th>2</th>\n",
       "      <td>2</td>\n",
       "      <td>726.063449</td>\n",
       "    </tr>\n",
       "    <tr>\n",
       "      <th>3</th>\n",
       "      <td>3</td>\n",
       "      <td>510.989450</td>\n",
       "    </tr>\n",
       "    <tr>\n",
       "      <th>4</th>\n",
       "      <td>4</td>\n",
       "      <td>494.361989</td>\n",
       "    </tr>\n",
       "  </tbody>\n",
       "</table>\n",
       "</div>"
      ],
      "text/plain": [
       "   Id  Prediction\n",
       "0   0  756.516852\n",
       "1   1  314.492324\n",
       "2   2  726.063449\n",
       "3   3  510.989450\n",
       "4   4  494.361989"
      ]
     },
     "execution_count": 32,
     "metadata": {},
     "output_type": "execute_result"
    }
   ],
   "source": [
    "\n",
    "numpy_data = np.array([[1], [3]])\n",
    "df = pd.DataFrame(data=predictions, columns=[\"Prediction\"])\n",
    "\n",
    "print(df.head())\n",
    "ID=ID.join(df)\n",
    "\n",
    "\n",
    "ID=ID[['Id','Prediction']]\n",
    " \n",
    "ID.to_csv('submit.csv',index=False)\n",
    "ID_open=pd.read_csv('submit.csv')\n",
    "ID_open.head()"
   ]
  },
  {
   "cell_type": "code",
   "execution_count": null,
   "metadata": {},
   "outputs": [],
   "source": []
  },
  {
   "cell_type": "code",
   "execution_count": 33,
   "metadata": {},
   "outputs": [
    {
     "data": {
      "text/html": [
       "<div>\n",
       "<style scoped>\n",
       "    .dataframe tbody tr th:only-of-type {\n",
       "        vertical-align: middle;\n",
       "    }\n",
       "\n",
       "    .dataframe tbody tr th {\n",
       "        vertical-align: top;\n",
       "    }\n",
       "\n",
       "    .dataframe thead th {\n",
       "        text-align: right;\n",
       "    }\n",
       "</style>\n",
       "<table border=\"1\" class=\"dataframe\">\n",
       "  <thead>\n",
       "    <tr style=\"text-align: right;\">\n",
       "      <th></th>\n",
       "      <th>Id</th>\n",
       "      <th>Prediction</th>\n",
       "    </tr>\n",
       "  </thead>\n",
       "  <tbody>\n",
       "    <tr>\n",
       "      <th>0</th>\n",
       "      <td>0</td>\n",
       "      <td>756.516852</td>\n",
       "    </tr>\n",
       "    <tr>\n",
       "      <th>1</th>\n",
       "      <td>1</td>\n",
       "      <td>314.492324</td>\n",
       "    </tr>\n",
       "    <tr>\n",
       "      <th>2</th>\n",
       "      <td>2</td>\n",
       "      <td>726.063449</td>\n",
       "    </tr>\n",
       "    <tr>\n",
       "      <th>3</th>\n",
       "      <td>3</td>\n",
       "      <td>510.989450</td>\n",
       "    </tr>\n",
       "    <tr>\n",
       "      <th>4</th>\n",
       "      <td>4</td>\n",
       "      <td>494.361989</td>\n",
       "    </tr>\n",
       "  </tbody>\n",
       "</table>\n",
       "</div>"
      ],
      "text/plain": [
       "   Id  Prediction\n",
       "0   0  756.516852\n",
       "1   1  314.492324\n",
       "2   2  726.063449\n",
       "3   3  510.989450\n",
       "4   4  494.361989"
      ]
     },
     "execution_count": 33,
     "metadata": {},
     "output_type": "execute_result"
    }
   ],
   "source": [
    "ID.to_csv('submit.csv',index=False)\n",
    "ID_open=pd.read_csv('submit.csv')\n",
    "ID_open.head()"
   ]
  },
  {
   "cell_type": "code",
   "execution_count": null,
   "metadata": {},
   "outputs": [],
   "source": []
  },
  {
   "cell_type": "code",
   "execution_count": null,
   "metadata": {},
   "outputs": [],
   "source": []
  },
  {
   "cell_type": "code",
   "execution_count": 34,
   "metadata": {},
   "outputs": [],
   "source": [
    "# import matplotlib.pyplot as plt\n",
    "# from scipy import interpolate\n",
    "# import numpy as np\n",
    "\n",
    "# y= [10.5,10,12]\n",
    "# x= np.linspace(1, len(y), len(y), endpoint=True)\n",
    "# dist = np.linalg.norm(y-x)\n",
    "\n",
    "# print(dist)\n",
    "\n",
    "# fig, ax = plt.subplots(figsize=(8, 6))\n",
    "# ax.plot(x, y, color='red')"
   ]
  },
  {
   "cell_type": "code",
   "execution_count": 35,
   "metadata": {},
   "outputs": [],
   "source": [
    "#=============================================================\n",
    "# евклидово расстояние\n",
    "#=============================================================\n",
    "def euclidean_distance(v1, v2):\n",
    "    return sum((x - y) ** 2 for x, y in zip(v1, v2)) ** 0.5\n",
    "\n",
    "#=============================================================\n",
    "# манхэттенское расстояние\n",
    "#=============================================================\n",
    "def manhattan_distance(v1, v2):\n",
    "    return sum((x - y) for (x, y) in zip(v1, v2))\n",
    "\n"
   ]
  },
  {
   "cell_type": "markdown",
   "metadata": {},
   "source": [
    "# Еще фичи"
   ]
  },
  {
   "cell_type": "code",
   "execution_count": null,
   "metadata": {},
   "outputs": [],
   "source": [
    "# import numpy as np\n",
    "# from numpy.linalg import norm\n",
    "\n",
    "# def get_edges(fig):\n",
    "#     return [[fig[i-1], fig[i]] for i in range(1, len(fig))] \\\n",
    "#            + [[fig[-1], fig[0]]]\n",
    "\n",
    "# def dist_edge_to_point(l1, l2, p):\n",
    "#     l1 = np.array(l1)\n",
    "#     l2 = np.array(l2)\n",
    "#     p = np.array(p)    \n",
    "#     return norm(np.cross(l2-l1, l1-p))/norm(l2-l1)\n",
    "\n",
    "# def min_dist_to_edge(p, nodes):\n",
    "#     edges = get_edges(nodes)\n",
    "#     data = [(dist_edge_to_point(l1, l2, p), l1, l2)\n",
    "#             for l1,l2 in edges]\n",
    "#     return min(data)\n",
    "\n",
    "# figures = [\n",
    "#     [(132, 0), (565, 234), (543, 103), (320, 129)],\n",
    "#     [(342, 56), (159, 361), (623, 121)]\n",
    "# ]\n",
    "\n",
    "# figures = [[list(p) for p in fig] for fig in figures]\n",
    "\n",
    "# p = (100, 200)\n",
    "\n",
    "# min_dists = [min_dist_to_edge(p, nodes) for nodes in figures]\n",
    "# min_dists"
   ]
  },
  {
   "cell_type": "code",
   "execution_count": null,
   "metadata": {},
   "outputs": [],
   "source": []
  },
  {
   "cell_type": "code",
   "execution_count": null,
   "metadata": {},
   "outputs": [],
   "source": []
  },
  {
   "cell_type": "code",
   "execution_count": null,
   "metadata": {},
   "outputs": [],
   "source": []
  }
 ],
 "metadata": {
  "kernelspec": {
   "display_name": "Python 3",
   "language": "python",
   "name": "python3"
  },
  "language_info": {
   "codemirror_mode": {
    "name": "ipython",
    "version": 3
   },
   "file_extension": ".py",
   "mimetype": "text/x-python",
   "name": "python",
   "nbconvert_exporter": "python",
   "pygments_lexer": "ipython3",
   "version": "3.7.6"
  }
 },
 "nbformat": 4,
 "nbformat_minor": 4
}
